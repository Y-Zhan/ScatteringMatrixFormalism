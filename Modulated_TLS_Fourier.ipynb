{
 "cells": [
  {
   "cell_type": "code",
   "execution_count": 1,
   "metadata": {},
   "outputs": [],
   "source": [
    "import numpy as np\n",
    "import matplotlib.pyplot as plt\n",
    "import scipy.linalg"
   ]
  },
  {
   "cell_type": "code",
   "execution_count": 33,
   "metadata": {},
   "outputs": [],
   "source": [
    "gamma = 1.0\n",
    "amp = 5.0*gamma\n",
    "\n",
    "def accumulatedPhaseFunc_sin(amp, freq, phase, t):\n",
    "    \"\"\"\n",
    "    The accumulated phase from periodic modulation.\n",
    "    \"\"\"\n",
    "    #return amp*np.sin(freq*t + phase)\n",
    "    # return np.exp(-1.0j*(freq*2*np.pi*t + phase))\n",
    "    return np.exp(1.0j*amp/freq*(np.cos(freq*t + phase) - 1))\n",
    "\n",
    "def accumulatedPhaseFunc_multiSin(amps: np.array, freqs: np.array, phases: np.array, t: float) -> complex:\n",
    "    \"\"\"\n",
    "    The accumulated phase from periodic modulation.\n",
    "    \"\"\"\n",
    "    globalPhase = np.pi/2\n",
    "    modulationInte = 0.0\n",
    "    for ii in range(amps.size):\n",
    "        modulationInte = modulationInte + amps[ii]/freqs[ii]*(np.cos(freqs[ii]*t + phases[ii] + globalPhase) - np.cos(phases[ii] + globalPhase))\n",
    "    return np.exp(1.0j*modulationInte)"
   ]
  },
  {
   "cell_type": "code",
   "execution_count": 18,
   "metadata": {},
   "outputs": [
    {
     "name": "stdout",
     "output_type": "stream",
     "text": [
      "Fast finished.\n",
      "Medium finished.\n",
      "Slow finished.\n"
     ]
    }
   ],
   "source": [
    "# Test single-frequency modulations\n",
    "numSample = 1000\n",
    "numPeriod = 10.0\n",
    "inputFreq = np.linspace(-15.0*gamma, 15.0*gamma, 1000)\n",
    "\n",
    "# fast modulation\n",
    "Omega_fast = 10.0*gamma\n",
    "period_fast = 2*np.pi/Omega_fast\n",
    "t_fast = np.linspace(0, numPeriod*period_fast, numSample)\n",
    "expDelta_fast = accumulatedPhaseFunc_sin(amp, Omega_fast, 0.0, t_fast)\n",
    "spectrum_fast = np.fft.fftshift((np.fft.fft(expDelta_fast)))/len(t_fast)\n",
    "\n",
    "# freqAxis = np.arange(numSample)\n",
    "# plt.figure()\n",
    "# plt.plot(t, np.abs(expDelta))\n",
    "# plt.figure()\n",
    "# plt.plot(freqAxis[400:600], (np.abs(spectrum)**2)[400:600])\n",
    "\n",
    "# store all the Fourier components\n",
    "fourierComp_fast = []\n",
    "for ii in range(int(numSample/numPeriod)):\n",
    "    # print(int(numPeriod)*ii)\n",
    "    fourierComp_fast.append(spectrum_fast[int(numPeriod)*ii])\n",
    "# print(len(fourierComp))\n",
    "# fourierComp\n",
    "\n",
    "# calculate the transmission\n",
    "rangeInc_fast = 5\n",
    "transmission_fast = []\n",
    "for nu in inputFreq:\n",
    "    Snu = 0.0\n",
    "    for p in range(-2*rangeInc_fast, 2*rangeInc_fast):\n",
    "        Sp = 0.0 + 0.0j\n",
    "        for n in range(-rangeInc_fast, rangeInc_fast):\n",
    "            alpha_n = np.conjugate(fourierComp_fast[50 + n])\n",
    "            alpha_pn = 0.0 + 0.0j\n",
    "            if ((n + p) <= 49) and ((n + p) >= -50):\n",
    "                alpha_pn = fourierComp_fast[50 + n + p]\n",
    "            Spn = -np.sqrt(gamma/2)*alpha_n*alpha_pn/(1.0j*(n*Omega_fast - nu) + gamma/2)\n",
    "            Sp += Spn\n",
    "        Snu += np.abs(Sp)**2\n",
    "    transmission_fast.append(Snu)\n",
    "print(\"Fast finished.\")\n",
    "    \n",
    "# medium modulation\n",
    "Omega_med = 2.5*gamma\n",
    "period_med = 2*np.pi/Omega_med\n",
    "t_med = np.linspace(0, numPeriod*period_med, numSample)\n",
    "expDelta_med = accumulatedPhaseFunc_sin(amp, Omega_med, 0.0, t_med)\n",
    "spectrum_med = np.fft.fftshift((np.fft.fft(expDelta_med)))/len(t_med)\n",
    "\n",
    "fourierComp_med = []\n",
    "for ii in range(int(numSample/numPeriod)):\n",
    "    fourierComp_med.append(spectrum_med[int(numPeriod)*ii])\n",
    "\n",
    "rangeInc_med = 5\n",
    "transmission_med = []\n",
    "for nu in inputFreq:\n",
    "    Snu = 0.0\n",
    "    for p in range(-2*rangeInc_med, 2*rangeInc_med):\n",
    "        Sp = 0.0 + 0.0j\n",
    "        for n in range(-rangeInc_med, rangeInc_med):\n",
    "            alpha_n = np.conjugate(fourierComp_med[50 + n])\n",
    "            alpha_pn = 0.0 + 0.0j\n",
    "            if ((n + p) <= 49) and ((n + p) >= -50):\n",
    "                alpha_pn = fourierComp_med[50 + n + p]\n",
    "            Spn = -np.sqrt(gamma/2)*alpha_n*alpha_pn/(1.0j*(n*Omega_med - nu) + gamma/2)\n",
    "            Sp += Spn\n",
    "        Snu += np.abs(Sp)**2\n",
    "    transmission_med.append(Snu)\n",
    "\n",
    "print(\"Medium finished.\")\n",
    "\n",
    "# slow modulation\n",
    "Omega_slow = 0.25*gamma\n",
    "period_slow = 2*np.pi/Omega_slow\n",
    "t_slow = np.linspace(0, numPeriod*period_slow, numSample)\n",
    "expDelta_slow = accumulatedPhaseFunc_sin(amp, Omega_slow, 0.0, t_slow)\n",
    "spectrum_slow = np.fft.fftshift((np.fft.fft(expDelta_slow)))/len(t_slow)\n",
    "\n",
    "fourierComp_slow = []\n",
    "for ii in range(int(numSample/numPeriod)):\n",
    "    fourierComp_slow.append(spectrum_slow[int(numPeriod)*ii])\n",
    "\n",
    "rangeInc_slow = 25\n",
    "transmission_slow = []\n",
    "for nu in inputFreq:\n",
    "    Snu = 0.0\n",
    "    for p in range(-2*rangeInc_slow, 2*rangeInc_slow):\n",
    "        Sp = 0.0 + 0.0j\n",
    "        for n in range(-rangeInc_slow, rangeInc_slow):\n",
    "            alpha_n = np.conjugate(fourierComp_slow[50 + n])\n",
    "            alpha_pn = 0.0 + 0.0j\n",
    "            if ((n + p) <= 49) and ((n + p) >= -50):\n",
    "                alpha_pn = fourierComp_slow[50 + n + p]\n",
    "            Spn = -np.sqrt(gamma/2)*alpha_n*alpha_pn/(1.0j*(n*Omega_slow - nu) + gamma/2)\n",
    "            Sp += Spn\n",
    "        Snu += np.abs(Sp)**2\n",
    "    transmission_slow.append(Snu)\n",
    "\n",
    "print(\"Slow finished.\")"
   ]
  },
  {
   "cell_type": "code",
   "execution_count": 20,
   "metadata": {},
   "outputs": [
    {
     "data": {
      "text/plain": [
       "[<matplotlib.lines.Line2D at 0x11580a6a0>]"
      ]
     },
     "execution_count": 20,
     "metadata": {},
     "output_type": "execute_result"
    },
    {
     "data": {
      "image/png": "[encoded data removed]",
      "text/plain": [
       "<Figure size 432x288 with 1 Axes>"
      ]
     },
     "metadata": {
      "needs_background": "light"
     },
     "output_type": "display_data"
    }
   ],
   "source": [
    "plt.figure()\n",
    "plt.plot(inputFreq, transmission_fast)\n",
    "plt.plot(inputFreq, transmission_med)\n",
    "plt.plot(inputFreq, transmission_slow)"
   ]
  },
  {
   "cell_type": "code",
   "execution_count": 34,
   "metadata": {},
   "outputs": [],
   "source": [
    "# Test four-color design\n",
    "inputFreq = np.linspace(-150.0*gamma, 150.0*gamma, 1000)\n",
    "basicFreq = 1200/98.0\n",
    "amps_4f = np.array([2360.0/98.0, 2110.0/98.0, 2220.0/98.0, 2020.0/98.0, 2250.0/98.0])\n",
    "phases_4f = np.array([np.pi/6, -np.pi/6, np.pi/2, -5*np.pi/6, 5*np.pi/6])\n",
    "freqs_4f = basicFreq*np.array([1, 2, 3, 4, 5])\n",
    "period_4f = 2.0*np.pi/basicFreq\n",
    "t_4f = np.linspace(0, numPeriod*period_4f, numSample)\n",
    "expDelta_4f = accumulatedPhaseFunc_multiSin(amps_4f, freqs_4f, phases_4f, t_4f)\n",
    "spectrum_4f = np.fft.fftshift((np.fft.fft(expDelta_4f)))/len(t_4f)\n",
    "\n",
    "# freqAxis = np.arange(numSample)\n",
    "# plt.figure()\n",
    "# plt.plot(freqAxis, (np.abs(spectrum_4f)**2))\n",
    "\n",
    "fourierComp_4f = []\n",
    "for ii in range(int(numSample/numPeriod)):\n",
    "    fourierComp_4f.append(spectrum_4f[int(numPeriod)*ii])\n",
    "\n",
    "rangeInc_4f = 12\n",
    "transmission_4f = []\n",
    "for nu in inputFreq:\n",
    "    Snu = 0.0\n",
    "    for p in range(-2*rangeInc_4f, 2*rangeInc_4f):\n",
    "        Sp = 0.0 + 0.0j\n",
    "        for n in range(-rangeInc_4f, rangeInc_4f):\n",
    "            alpha_n = np.conjugate(fourierComp_4f[50 + n])\n",
    "            alpha_pn = 0.0 + 0.0j\n",
    "            if ((n + p) <= 49) and ((n + p) >= -50):\n",
    "                alpha_pn = fourierComp_4f[50 + n + p]\n",
    "            Spn = -np.sqrt(gamma/2)*alpha_n*alpha_pn/(1.0j*(n*basicFreq - nu) + gamma/2)\n",
    "            Sp += Spn\n",
    "        Snu += np.abs(Sp)**2\n",
    "    transmission_4f.append(Snu)"
   ]
  },
  {
   "cell_type": "code",
   "execution_count": 38,
   "metadata": {},
   "outputs": [
    {
     "name": "stdout",
     "output_type": "stream",
     "text": [
      "Use cosine functions:\n"
     ]
    },
    {
     "data": {
      "text/plain": [
       "[<matplotlib.lines.Line2D at 0x115b275e0>]"
      ]
     },
     "execution_count": 38,
     "metadata": {},
     "output_type": "execute_result"
    },
    {
     "data": {
      "image/png": "[encoded data removed]",
      "text/plain": [
       "<Figure size 432x288 with 1 Axes>"
      ]
     },
     "metadata": {
      "needs_background": "light"
     },
     "output_type": "display_data"
    }
   ],
   "source": [
    "print(\"Use cosine functions:\")\n",
    "plt.figure()\n",
    "plt.plot(inputFreq/10, transmission_4f)"
   ]
  },
  {
   "cell_type": "code",
   "execution_count": 40,
   "metadata": {},
   "outputs": [
    {
     "name": "stdout",
     "output_type": "stream",
     "text": [
      "Use sine functions:\n"
     ]
    },
    {
     "data": {
      "text/plain": [
       "[<matplotlib.lines.Line2D at 0x11630f0d0>]"
      ]
     },
     "execution_count": 40,
     "metadata": {},
     "output_type": "execute_result"
    },
    {
     "data": {
      "image/png": "[encoded data removed]",
      "text/plain": [
       "<Figure size 432x288 with 1 Axes>"
      ]
     },
     "metadata": {
      "needs_background": "light"
     },
     "output_type": "display_data"
    }
   ],
   "source": [
    "def accumulatedPhaseFunc_multiSin2(amps: np.array, freqs: np.array, phases: np.array, t: float) -> complex:\n",
    "    \"\"\"\n",
    "    The accumulated phase from periodic modulation.\n",
    "    \"\"\"\n",
    "    globalPhase = 0.0\n",
    "    modulationInte = 0.0\n",
    "    for ii in range(amps.size):\n",
    "        modulationInte = modulationInte + amps[ii]/freqs[ii]*(np.cos(freqs[ii]*t + phases[ii] + globalPhase) - np.cos(phases[ii] + globalPhase))\n",
    "    return np.exp(1.0j*modulationInte)\n",
    "\n",
    "inputFreq = np.linspace(-150.0*gamma, 150.0*gamma, 1000)\n",
    "basicFreq = 1200/98.0\n",
    "amps_4f = np.array([2360.0/98.0, 2110.0/98.0, 2220.0/98.0, 2020.0/98.0, 2250.0/98.0])\n",
    "phases_4f = np.array([np.pi/6, -np.pi/6, np.pi/2, -5*np.pi/6, 5*np.pi/6])\n",
    "freqs_4f = basicFreq*np.array([1, 2, 3, 4, 5])\n",
    "period_4f = 2.0*np.pi/basicFreq\n",
    "t_4f = np.linspace(0, numPeriod*period_4f, numSample)\n",
    "expDelta_4f = accumulatedPhaseFunc_multiSin2(amps_4f, freqs_4f, phases_4f, t_4f)\n",
    "spectrum_4f = np.fft.fftshift((np.fft.fft(expDelta_4f)))/len(t_4f)\n",
    "\n",
    "# freqAxis = np.arange(numSample)\n",
    "# plt.figure()\n",
    "# plt.plot(freqAxis, (np.abs(spectrum_4f)**2))\n",
    "\n",
    "fourierComp_4f = []\n",
    "for ii in range(int(numSample/numPeriod)):\n",
    "    fourierComp_4f.append(spectrum_4f[int(numPeriod)*ii])\n",
    "\n",
    "rangeInc_4f = 12\n",
    "transmission_4f = []\n",
    "for nu in inputFreq:\n",
    "    Snu = 0.0\n",
    "    for p in range(-2*rangeInc_4f, 2*rangeInc_4f):\n",
    "        Sp = 0.0 + 0.0j\n",
    "        for n in range(-rangeInc_4f, rangeInc_4f):\n",
    "            alpha_n = np.conjugate(fourierComp_4f[50 + n])\n",
    "            alpha_pn = 0.0 + 0.0j\n",
    "            if ((n + p) <= 49) and ((n + p) >= -50):\n",
    "                alpha_pn = fourierComp_4f[50 + n + p]\n",
    "            Spn = -np.sqrt(gamma/2)*alpha_n*alpha_pn/(1.0j*(n*basicFreq - nu) + gamma/2)\n",
    "            Sp += Spn\n",
    "        Snu += np.abs(Sp)**2\n",
    "    transmission_4f.append(Snu)\n",
    "    \n",
    "print(\"Use sine functions:\")\n",
    "plt.figure()\n",
    "plt.plot(inputFreq/10, transmission_4f)"
   ]
  },
  {
   "cell_type": "code",
   "execution_count": null,
   "metadata": {},
   "outputs": [],
   "source": []
  }
 ],
 "metadata": {
  "kernelspec": {
   "display_name": "Python 3",
   "language": "python",
   "name": "python3"
  },
  "language_info": {
   "codemirror_mode": {
    "name": "ipython",
    "version": 3
   },
   "file_extension": ".py",
   "mimetype": "text/x-python",
   "name": "python",
   "nbconvert_exporter": "python",
   "pygments_lexer": "ipython3",
   "version": "3.8.3"
  }
 },
 "nbformat": 4,
 "nbformat_minor": 4
}
