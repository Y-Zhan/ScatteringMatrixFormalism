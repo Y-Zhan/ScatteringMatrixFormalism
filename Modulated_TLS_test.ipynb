{
 "cells": [
  {
   "cell_type": "code",
   "execution_count": 7,
   "metadata": {},
   "outputs": [],
   "source": [
    "import numpy as np\n",
    "import matplotlib.pyplot as plt\n",
    "from scipy import fft, integrate"
   ]
  },
  {
   "cell_type": "markdown",
   "metadata": {},
   "source": [
    "## Transmission spectrum of a periodically modulated TLS"
   ]
  },
  {
   "cell_type": "code",
   "execution_count": 5,
   "metadata": {},
   "outputs": [],
   "source": [
    "# system parameters\n",
    "gamma = 1.0  # total decay rate into waveguide, gamma = gamma_i + gamma_o\n",
    "Omega = np.array([10.0*gamma, 2.5*gamma, 0.25*gamma])  # frequencies of fast, intermediate, and slow modulations\n",
    "modulationAmp = np.array([5*gamma, 5*gamma, 5*gamma])  # modulation amplitudes"
   ]
  },
  {
   "cell_type": "code",
   "execution_count": 17,
   "metadata": {},
   "outputs": [
    {
     "data": {
      "text/plain": [
       "[<matplotlib.lines.Line2D at 0x151a58ce90>]"
      ]
     },
     "execution_count": 17,
     "metadata": {},
     "output_type": "execute_result"
    },
    {
     "data": {
      "image/png": "[encoded data removed]",
      "text/plain": [
       "<Figure size 432x288 with 1 Axes>"
      ]
     },
     "metadata": {
      "needs_background": "light"
     },
     "output_type": "display_data"
    }
   ],
   "source": [
    "# modulation function\n",
    "def modulationFunc(amp, freq, phase, tt):\n",
    "    \"\"\"\n",
    "    The periodic modulation function Delta(t)\n",
    "    \"\"\"\n",
    "    return amp*np.sin(freq*tt + phase)\n",
    "\n",
    "def accumulatedPhaseFunc(amp, freq, phase, t):\n",
    "    \"\"\"\n",
    "    The accumulated phase from the periodic modulation Delta(t)\n",
    "    \"\"\"\n",
    "    integratedVal, abserr = integrate.quad(modulationFunc, 0, t, args=(amp, freq, phase,))\n",
    "    return np.exp(-1.0j*integratedVal)\n",
    "\n",
    "# t = np.linspace(0, 1, 1000)\n",
    "# y = modulationFunc(5.0, 2*np.pi*50, 0, t) + modulationFunc(5.0, 2*np.pi*100, 0, t)\n",
    "# plt.figure()\n",
    "# plt.plot(t, y)\n",
    "\n",
    "# freq = np.linspace(-499, 499, 999)\n",
    "# spec = abs(scipy.fft(y))/len(t)\n",
    "# spec1 = np.copy(freq)\n",
    "# spec1[0:500] = np.copy(spec[500:1000])\n",
    "# spec1[500:999] = np.copy(spec[1:500])\n",
    "# spec2 = np.copy(spec[1:1000])\n",
    "# plt.figure()\n",
    "# plt.plot(freq, spec1)\n",
    "\n",
    "tAxis = np.linspace(0, 1, 10000)\n",
    "accumulatedPhase = np.linspace(0, 1, 10000)\n",
    "for ii in range(len(tAxis)):\n",
    "    accumulatedPhase[ii] = abs(accumulatedPhaseFunc(5, 10, 0, tAxis[ii]))\n",
    "\n",
    "freq = np.linspace(-4999, 4999, 9999)\n",
    "spec = abs(fft(accumulatedPhase))/len(tAxis)\n",
    "spec1 = np.copy(freq)\n",
    "spec1[0:5000] = np.copy(spec[5000:10000])\n",
    "spec1[5000:9999] = np.copy(spec[1:5000])\n",
    "spec2 = np.copy(spec[1:10000])\n",
    "plt.figure()\n",
    "# plt.xlim(-100, 100)\n",
    "plt.plot(freq, spec1)\n"
   ]
  },
  {
   "cell_type": "code",
   "execution_count": 22,
   "metadata": {},
   "outputs": [
    {
     "name": "stderr",
     "output_type": "stream",
     "text": [
      "/Users/zhanyuan/opt/anaconda2/lib/python2.7/site-packages/ipykernel_launcher.py:13: ComplexWarning: Casting complex values to real discards the imaginary part\n",
      "  del sys.path[0]\n"
     ]
    },
    {
     "ename": "KeyboardInterrupt",
     "evalue": "",
     "output_type": "error",
     "traceback": [
      "\u001b[0;31m---------------------------------------------------------------------------\u001b[0m",
      "\u001b[0;31mKeyboardInterrupt\u001b[0m                         Traceback (most recent call last)",
      "\u001b[0;32m<ipython-input-22-4782fe9c21c6>\u001b[0m in \u001b[0;36m<module>\u001b[0;34m()\u001b[0m\n\u001b[1;32m     11\u001b[0m             \u001b[0;32mif\u001b[0m \u001b[0;34m(\u001b[0m\u001b[0;34m(\u001b[0m\u001b[0mm\u001b[0m \u001b[0;34m+\u001b[0m \u001b[0mp\u001b[0m\u001b[0;34m)\u001b[0m \u001b[0;34m>\u001b[0m \u001b[0;36m500\u001b[0m\u001b[0;34m)\u001b[0m \u001b[0;32mor\u001b[0m \u001b[0;34m(\u001b[0m\u001b[0;34m(\u001b[0m\u001b[0mm\u001b[0m \u001b[0;34m+\u001b[0m \u001b[0mp\u001b[0m\u001b[0;34m)\u001b[0m \u001b[0;34m<\u001b[0m \u001b[0;34m-\u001b[0m\u001b[0;36m500\u001b[0m\u001b[0;34m)\u001b[0m\u001b[0;34m:\u001b[0m\u001b[0;34m\u001b[0m\u001b[0m\n\u001b[1;32m     12\u001b[0m                 \u001b[0malpha_mp\u001b[0m \u001b[0;34m=\u001b[0m \u001b[0;36m0\u001b[0m\u001b[0;34m\u001b[0m\u001b[0m\n\u001b[0;32m---> 13\u001b[0;31m             \u001b[0mSp\u001b[0m\u001b[0;34m[\u001b[0m\u001b[0mii\u001b[0m\u001b[0;34m]\u001b[0m \u001b[0;34m+=\u001b[0m \u001b[0;34m-\u001b[0m\u001b[0;36m1.0\u001b[0m\u001b[0;34m*\u001b[0m\u001b[0;34m(\u001b[0m\u001b[0malpha_m\u001b[0m\u001b[0;34m.\u001b[0m\u001b[0mconjugate\u001b[0m\u001b[0;34m(\u001b[0m\u001b[0;34m)\u001b[0m\u001b[0;34m*\u001b[0m\u001b[0malpha_mp\u001b[0m\u001b[0;34m)\u001b[0m\u001b[0;34m/\u001b[0m\u001b[0;34m(\u001b[0m\u001b[0mgamma\u001b[0m\u001b[0;34m/\u001b[0m\u001b[0;36m2\u001b[0m \u001b[0;34m+\u001b[0m \u001b[0;36m1.0j\u001b[0m\u001b[0;34m*\u001b[0m\u001b[0;34m(\u001b[0m\u001b[0mm\u001b[0m\u001b[0;34m*\u001b[0m\u001b[0;36m10\u001b[0m \u001b[0;34m-\u001b[0m \u001b[0mmu\u001b[0m\u001b[0;34m[\u001b[0m\u001b[0mind\u001b[0m\u001b[0;34m]\u001b[0m\u001b[0;34m)\u001b[0m\u001b[0;34m)\u001b[0m\u001b[0;34m\u001b[0m\u001b[0m\n\u001b[0m\u001b[1;32m     14\u001b[0m             \u001b[0mS_omega_mu\u001b[0m\u001b[0;34m[\u001b[0m\u001b[0mind\u001b[0m\u001b[0;34m]\u001b[0m \u001b[0;34m+=\u001b[0m \u001b[0mabs\u001b[0m\u001b[0;34m(\u001b[0m\u001b[0mSp\u001b[0m\u001b[0;34m[\u001b[0m\u001b[0mii\u001b[0m\u001b[0;34m]\u001b[0m\u001b[0;34m)\u001b[0m\u001b[0;34m**\u001b[0m\u001b[0;36m2\u001b[0m\u001b[0;34m\u001b[0m\u001b[0m\n\u001b[1;32m     15\u001b[0m \u001b[0;34m\u001b[0m\u001b[0m\n",
      "\u001b[0;31mKeyboardInterrupt\u001b[0m: "
     ]
    }
   ],
   "source": [
    "mu = np.linspace(-15, 15, 1000)\n",
    "S_omega_mu = np.zeros(1000)\n",
    "for ind in range(1000):\n",
    "    Sp = np.arange(1001)\n",
    "    for ii in range(1001):\n",
    "        for jj in range(1001):\n",
    "            p = ii - 500\n",
    "            m = jj - 500\n",
    "            alpha_m = spec1[(m + 499)*10 - 1]\n",
    "            alpha_mp = spec1[(m + 499)*10 - 1]\n",
    "            if ((m + p) > 500) or ((m + p) < -500):\n",
    "                alpha_mp = 0\n",
    "            Sp[ii] += -1.0*(alpha_m.conjugate()*alpha_mp)/(gamma/2 + 1.0j*(m*10 - mu[ind]))\n",
    "            S_omega_mu[ind] += abs(Sp[ii])**2\n",
    "            \n",
    "plt.figure()\n",
    "plt.plot(mu, S_omega_mu)"
   ]
  },
  {
   "cell_type": "code",
   "execution_count": null,
   "metadata": {},
   "outputs": [],
   "source": [
    "# system parameter initialization\n",
    "class modulation:\n",
    "    \"\"\"\n",
    "    Define the periodic modulation applied to the TLS\n",
    "    \"\"\"\n",
    "    def __init__(self, amp, freq, phase):\n",
    "        \"\"\"\n",
    "        Initialization of the modulation parameters.\n",
    "        \n",
    "        Args:\n",
    "            amp: Amplitude of the monochromatic modulation;\n",
    "            freq: Frequency of the monochromatic modulation;\n",
    "            phase: Phase of the monochromatic modulation.\n",
    "        \"\"\"\n",
    "        self._amp = amp\n",
    "        self._freq = freq\n",
    "        self._phase = phase\n",
    "        \n",
    "\n",
    "class modulatedTLS:\n",
    "    \"\"\"\n",
    "    Define the paremeters for a periodically modulated two-level system.\n",
    "    \"\"\"\n",
    "    def __init__(self, omega_0, gamma, amp, freq, phase):\n",
    "        \"\"\"\n",
    "        Initialization of a 'modulatedTLS' object under monochromatic modulation.\n",
    "        \n",
    "        Args:\n",
    "            omega_0: Unmodulated resonance frequency of the TLS;\n",
    "            gamma: Total decay rate of TLS;\n",
    "            amp: Amplitude of the monochromatic modulation;\n",
    "            freq: Frequency of the monochromatic modulation;\n",
    "            phase: Phase of the monochromatic modulation.\n",
    "        \"\"\"\n",
    "        self._omega_0 = omega_0\n",
    "        self._gamma = gamma\n",
    "        self._amp = amp\n",
    "        self._freq = freq\n",
    "        self._phase = phase\n",
    "        \n",
    "    def hamiltonian_sys(self):\n",
    "        \"\"\"Compute the system Hamiltonian.\"\"\""
   ]
  }
 ],
 "metadata": {
  "kernelspec": {
   "display_name": "Python 2",
   "language": "python",
   "name": "python2"
  },
  "language_info": {
   "codemirror_mode": {
    "name": "ipython",
    "version": 2
   },
   "file_extension": ".py",
   "mimetype": "text/x-python",
   "name": "python",
   "nbconvert_exporter": "python",
   "pygments_lexer": "ipython2",
   "version": "2.7.16"
  }
 },
 "nbformat": 4,
 "nbformat_minor": 2
}
